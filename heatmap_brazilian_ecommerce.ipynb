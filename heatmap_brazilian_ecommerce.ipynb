{
 "cells": [
  {
   "cell_type": "markdown",
   "metadata": {
    "colab_type": "text",
    "id": "8PWRW-iovft7"
   },
   "source": [
    "Mapa de calor para mostrar em quais regiões ocorrem o maior fluxo de compras.\n",
    "Quais as regiões em que os usuários possuem maior satisfação."
   ]
  },
  {
   "cell_type": "code",
   "execution_count": 3,
   "metadata": {
    "colab": {
     "base_uri": "https://localhost:8080/",
     "height": 89,
     "resources": {
      "http://localhost:8080/nbextensions/google.colab/files.js": {
       "data": "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",
       "headers": [
        [
         "content-type",
         "application/javascript"
        ]
       ],
       "ok": true,
       "status": 200,
       "status_text": ""
      }
     }
    },
    "colab_type": "code",
    "id": "oYq_qnuxuJM4",
    "outputId": "969ea589-b0ec-4ddf-c948-4aef03b984ec"
   },
   "outputs": [
    {
     "data": {
      "text/html": [
       "\n",
       "     <input type=\"file\" id=\"files-a72593e7-9111-47f9-8f9d-e576a4b09814\" name=\"files[]\" multiple disabled />\n",
       "     <output id=\"result-a72593e7-9111-47f9-8f9d-e576a4b09814\">\n",
       "      Upload widget is only available when the cell has been executed in the\n",
       "      current browser session. Please rerun this cell to enable.\n",
       "      </output>\n",
       "      <script src=\"/nbextensions/google.colab/files.js\"></script> "
      ],
      "text/plain": [
       "<IPython.core.display.HTML object>"
      ]
     },
     "metadata": {
      "tags": []
     },
     "output_type": "display_data"
    },
    {
     "name": "stdout",
     "output_type": "stream",
     "text": [
      "Saving brazilian-ecommerce.zip to brazilian-ecommerce.zip\n",
      "User uploaded file \"brazilian-ecommerce.zip\" with length 26382433 bytes\n"
     ]
    }
   ],
   "source": [
    "# Uploading files from your local file system\n",
    "\n",
    "from google.colab import files\n",
    "uploaded = files.upload()\n",
    "for fn in uploaded.keys():\n",
    "  print('User uploaded file \"{name}\" with length {length} bytes'.format(\n",
    "      name=fn, length=len(uploaded[fn])))\n",
    " "
   ]
  },
  {
   "cell_type": "code",
   "execution_count": 4,
   "metadata": {
    "colab": {
     "base_uri": "https://localhost:8080/",
     "height": 136
    },
    "colab_type": "code",
    "id": "hHNhCwlEu0Lk",
    "outputId": "4dfa09d5-696d-4712-8768-35632630eb6a"
   },
   "outputs": [
    {
     "name": "stdout",
     "output_type": "stream",
     "text": [
      "Archive:  brazilian-ecommerce.zip\n",
      "  inflating: geolocation_olist_public_dataset.csv  \n",
      "  inflating: olist_public_dataset_v2_customers.csv  \n",
      "  inflating: product_category_name_translation.csv  \n",
      "  inflating: olist_public_dataset_v2.csv  \n",
      "  inflating: olist_classified_public_dataset.csv  \n",
      "  inflating: olist_public_dataset_v2_payments.csv  \n"
     ]
    }
   ],
   "source": [
    "# unzip files\n",
    "!unzip brazilian-ecommerce.zip"
   ]
  },
  {
   "cell_type": "code",
   "execution_count": 2,
   "metadata": {
    "colab": {
     "base_uri": "https://localhost:8080/",
     "height": 751
    },
    "colab_type": "code",
    "id": "9kf78uMWu17B",
    "outputId": "ce5068e0-9c0e-43c9-b2f9-6af8c41b759f"
   },
   "outputs": [],
   "source": [
    "#import pandas\n",
    "import pandas as pd"
   ]
  },
  {
   "cell_type": "code",
   "execution_count": 3,
   "metadata": {
    "colab": {},
    "colab_type": "code",
    "id": "LbehczehwTk1"
   },
   "outputs": [],
   "source": [
    "# getting each data\n",
    "coordenadas = pd.read_csv(\"geolocation_olist_public_dataset.csv\")\n",
    "classificacoes = pd.read_csv(\"olist_classified_public_dataset.csv\")\n",
    "informacoes_dos_pedidos = pd.read_csv(\"olist_public_dataset_v2.csv\", index_col=0)\n",
    "chaves_clientes = pd.read_csv(\"olist_public_dataset_v2_customers.csv\")\n",
    "tipo_pagamento = pd.read_csv(\"olist_public_dataset_v2_payments.csv\", index_col=0)\n",
    "categoria_en_pt = pd.read_csv(\"product_category_name_translation.csv\")\n"
   ]
  },
  {
   "cell_type": "code",
   "execution_count": 22,
   "metadata": {
    "colab": {
     "base_uri": "https://localhost:8080/",
     "height": 2312
    },
    "colab_type": "code",
    "id": "zEWW7GM3xbTB",
    "outputId": "8acc30a0-3f59-493c-a85d-60733a01480b"
   },
   "outputs": [
    {
     "name": "stdout",
     "output_type": "stream",
     "text": [
      "   zip_code_prefix       city state        lat        lng\n",
      "0               10  sao paulo    sp -23.547807 -46.636122\n",
      "1               10  sao paulo    sp -23.546081 -46.644820\n",
      "   Unnamed: 0  id order_status  order_products_value  order_freight_value  \\\n",
      "0           0   1    delivered                 89.99                14.38   \n",
      "1           1   2    delivered                 69.00                15.23   \n",
      "\n",
      "   order_items_qty  order_sellers_qty    order_purchase_timestamp  \\\n",
      "0                1                  1  2017-08-30 11:41:01.000000   \n",
      "1                1                  1  2017-09-26 09:13:36.000000   \n",
      "\n",
      "             order_aproved_at order_estimated_delivery_date  \\\n",
      "0  2017-08-30 11:55:08.970352    2017-09-21 00:00:00.000000   \n",
      "1  2017-09-26 09:28:10.922048    2017-10-24 00:00:00.000000   \n",
      "\n",
      "           ...           votes_delayed votes_low_quality votes_return  \\\n",
      "0          ...                       0                 0            0   \n",
      "1          ...                       0                 0            0   \n",
      "\n",
      "   votes_not_as_anounced votes_partial_delivery  votes_other_delivery  \\\n",
      "0                      0                      0                     0   \n",
      "1                      0                      0                     0   \n",
      "\n",
      "   votes_other_order  votes_satisfied  most_voted_subclass  \\\n",
      "0                  0                3           satisfeito   \n",
      "1                  0                0          antes_prazo   \n",
      "\n",
      "        most_voted_class  \n",
      "0  satisfeito_com_pedido  \n",
      "1  satisfeito_com_pedido  \n",
      "\n",
      "[2 rows x 34 columns]\n",
      "                                 order_status  order_products_value  \\\n",
      "order_id                                                              \n",
      "b95df3cef5297e79ef709ba256518f6f    delivered                 349.9   \n",
      "59af46052a799e80e2f0c665c587731d    delivered                  15.0   \n",
      "\n",
      "                                  order_freight_value  order_items_qty  \\\n",
      "order_id                                                                 \n",
      "b95df3cef5297e79ef709ba256518f6f                13.84                1   \n",
      "59af46052a799e80e2f0c665c587731d                15.10                1   \n",
      "\n",
      "                                  order_sellers_qty  \\\n",
      "order_id                                              \n",
      "b95df3cef5297e79ef709ba256518f6f                  1   \n",
      "59af46052a799e80e2f0c665c587731d                  1   \n",
      "\n",
      "                                    order_purchase_timestamp  \\\n",
      "order_id                                                       \n",
      "b95df3cef5297e79ef709ba256518f6f  2017-01-31 17:19:01.000000   \n",
      "59af46052a799e80e2f0c665c587731d  2017-09-09 19:52:54.000000   \n",
      "\n",
      "                                            order_aproved_at  \\\n",
      "order_id                                                       \n",
      "b95df3cef5297e79ef709ba256518f6f  2017-02-01 02:41:21.549551   \n",
      "59af46052a799e80e2f0c665c587731d  2017-09-10 20:03:31.535281   \n",
      "\n",
      "                                 order_estimated_delivery_date  \\\n",
      "order_id                                                         \n",
      "b95df3cef5297e79ef709ba256518f6f    2017-03-15 00:00:00.000000   \n",
      "59af46052a799e80e2f0c665c587731d    2017-10-02 00:00:00.000000   \n",
      "\n",
      "                                 order_delivered_customer_date  \\\n",
      "order_id                                                         \n",
      "b95df3cef5297e79ef709ba256518f6f    2017-02-06 11:04:24.154259   \n",
      "59af46052a799e80e2f0c665c587731d    2017-09-13 20:17:41.296915   \n",
      "\n",
      "                                                       customer_id  \\\n",
      "order_id                                                             \n",
      "b95df3cef5297e79ef709ba256518f6f  297dcf281305aabfee256d313076af2b   \n",
      "59af46052a799e80e2f0c665c587731d  b7563d94162ed0aa3f8d9cada4bcc536   \n",
      "\n",
      "                                            ...              \\\n",
      "order_id                                    ...               \n",
      "b95df3cef5297e79ef709ba256518f6f            ...               \n",
      "59af46052a799e80e2f0c665c587731d            ...               \n",
      "\n",
      "                                 product_name_lenght  \\\n",
      "order_id                                               \n",
      "b95df3cef5297e79ef709ba256518f6f                  51   \n",
      "59af46052a799e80e2f0c665c587731d                  44   \n",
      "\n",
      "                                 product_description_lenght  \\\n",
      "order_id                                                      \n",
      "b95df3cef5297e79ef709ba256518f6f                        625   \n",
      "59af46052a799e80e2f0c665c587731d                       1428   \n",
      "\n",
      "                                  product_photos_qty  \\\n",
      "order_id                                               \n",
      "b95df3cef5297e79ef709ba256518f6f                   1   \n",
      "59af46052a799e80e2f0c665c587731d                   2   \n",
      "\n",
      "                                                        product_id  \\\n",
      "order_id                                                             \n",
      "b95df3cef5297e79ef709ba256518f6f  6cdd53843498f92890544667809f1595   \n",
      "59af46052a799e80e2f0c665c587731d  ae5cad88462eb7b7b61401e31c45618e   \n",
      "\n",
      "                                                         review_id  \\\n",
      "order_id                                                             \n",
      "b95df3cef5297e79ef709ba256518f6f  b95df3cef5297e79ef709ba256518f6f   \n",
      "59af46052a799e80e2f0c665c587731d  59af46052a799e80e2f0c665c587731d   \n",
      "\n",
      "                                  review_score  review_comment_title  \\\n",
      "order_id                                                               \n",
      "b95df3cef5297e79ef709ba256518f6f             5                   NaN   \n",
      "59af46052a799e80e2f0c665c587731d             5                   NaN   \n",
      "\n",
      "                                                             review_comment_message  \\\n",
      "order_id                                                                              \n",
      "b95df3cef5297e79ef709ba256518f6f                                                NaN   \n",
      "59af46052a799e80e2f0c665c587731d  entrega em 2 dias produto c boa qualidade otim...   \n",
      "\n",
      "                                        review_creation_date  \\\n",
      "order_id                                                       \n",
      "b95df3cef5297e79ef709ba256518f6f  2017-02-07 00:00:00.000000   \n",
      "59af46052a799e80e2f0c665c587731d  2017-09-14 00:00:00.000000   \n",
      "\n",
      "                                    review_answer_timestamp  \n",
      "order_id                                                     \n",
      "b95df3cef5297e79ef709ba256518f6f  2017-02-09 02:37:37+00:00  \n",
      "59af46052a799e80e2f0c665c587731d  2017-09-15 03:43:47+00:00  \n",
      "\n",
      "[2 rows x 24 columns]\n",
      "                        customer_id                customer_unique_id\n",
      "0  0000ca4ff2795842fd6b122c6d974468  ac0e5d7f07043dd32831bdad3b99ad26\n",
      "1  00010f206878ba01f199aec4237de72e  4ed24aaed4079fe0661c0e4b3b420dff\n",
      "                                  installments  sequential payment_type  \\\n",
      "order_id                                                                  \n",
      "c3d9e402b6a0fbe2a5f7fc5b41117c38             4           1  credit_card   \n",
      "733d6bf02be72825b2c6f120262b9aa9             1           1  credit_card   \n",
      "\n",
      "                                   value  \n",
      "order_id                                  \n",
      "c3d9e402b6a0fbe2a5f7fc5b41117c38  237.45  \n",
      "733d6bf02be72825b2c6f120262b9aa9  165.90  \n"
     ]
    }
   ],
   "source": [
    "# print each data in 2 lines\n",
    "print(coordenadas.head(2))\n",
    "print(classificacoes.head(2))\n",
    "print(informacoes_dos_pedidos.head(2))\n",
    "print(chaves_clientes.head(2))\n",
    "print(tipo_pagamento.head(2))\n",
    "\n"
   ]
  },
  {
   "cell_type": "code",
   "execution_count": 23,
   "metadata": {
    "colab": {},
    "colab_type": "code",
    "id": "GFRCoFiSzQJ_"
   },
   "outputs": [],
   "source": [
    "# creating a pedidos data\n",
    "pedidos = pd.concat([informacoes_dos_pedidos, tipo_pagamento])"
   ]
  },
  {
   "cell_type": "code",
   "execution_count": 24,
   "metadata": {
    "colab": {},
    "colab_type": "code",
    "id": "qPpVzeD50aOz"
   },
   "outputs": [],
   "source": [
    "# changing the index\n",
    "pedidos = pedidos.set_index(\"customer_state\")"
   ]
  },
  {
   "cell_type": "code",
   "execution_count": 25,
   "metadata": {
    "colab": {
     "base_uri": "https://localhost:8080/",
     "height": 173
    },
    "colab_type": "code",
    "id": "AO0Uz5Uo-iy2",
    "outputId": "621bb621-2e57-439a-b67a-ec5c02f000f9"
   },
   "outputs": [
    {
     "data": {
      "text/html": [
       "<div>\n",
       "<style scoped>\n",
       "    .dataframe tbody tr th:only-of-type {\n",
       "        vertical-align: middle;\n",
       "    }\n",
       "\n",
       "    .dataframe tbody tr th {\n",
       "        vertical-align: top;\n",
       "    }\n",
       "\n",
       "    .dataframe thead th {\n",
       "        text-align: right;\n",
       "    }\n",
       "</style>\n",
       "<table border=\"1\" class=\"dataframe\">\n",
       "  <thead>\n",
       "    <tr style=\"text-align: right;\">\n",
       "      <th></th>\n",
       "      <th>zip_code_prefix</th>\n",
       "      <th>city</th>\n",
       "      <th>state</th>\n",
       "      <th>lat</th>\n",
       "      <th>lng</th>\n",
       "    </tr>\n",
       "  </thead>\n",
       "  <tbody>\n",
       "    <tr>\n",
       "      <th>0</th>\n",
       "      <td>10</td>\n",
       "      <td>sao paulo</td>\n",
       "      <td>SP</td>\n",
       "      <td>-23.547807</td>\n",
       "      <td>-46.636122</td>\n",
       "    </tr>\n",
       "    <tr>\n",
       "      <th>1</th>\n",
       "      <td>10</td>\n",
       "      <td>sao paulo</td>\n",
       "      <td>SP</td>\n",
       "      <td>-23.546081</td>\n",
       "      <td>-46.644820</td>\n",
       "    </tr>\n",
       "    <tr>\n",
       "      <th>2</th>\n",
       "      <td>10</td>\n",
       "      <td>sao paulo</td>\n",
       "      <td>SP</td>\n",
       "      <td>-23.540984</td>\n",
       "      <td>-46.642569</td>\n",
       "    </tr>\n",
       "    <tr>\n",
       "      <th>3</th>\n",
       "      <td>10</td>\n",
       "      <td>sao paulo</td>\n",
       "      <td>SP</td>\n",
       "      <td>-23.546758</td>\n",
       "      <td>-46.645771</td>\n",
       "    </tr>\n",
       "  </tbody>\n",
       "</table>\n",
       "</div>"
      ],
      "text/plain": [
       "   zip_code_prefix       city state        lat        lng\n",
       "0               10  sao paulo    SP -23.547807 -46.636122\n",
       "1               10  sao paulo    SP -23.546081 -46.644820\n",
       "2               10  sao paulo    SP -23.540984 -46.642569\n",
       "3               10  sao paulo    SP -23.546758 -46.645771"
      ]
     },
     "execution_count": 25,
     "metadata": {},
     "output_type": "execute_result"
    }
   ],
   "source": [
    "# changing look of the state column\n",
    "coordenadas[\"state\"] = coordenadas[\"state\"].str.upper()\n",
    "coordenadas.head(4)"
   ]
  },
  {
   "cell_type": "code",
   "execution_count": 36,
   "metadata": {},
   "outputs": [
    {
     "data": {
      "text/html": [
       "<div>\n",
       "<style scoped>\n",
       "    .dataframe tbody tr th:only-of-type {\n",
       "        vertical-align: middle;\n",
       "    }\n",
       "\n",
       "    .dataframe tbody tr th {\n",
       "        vertical-align: top;\n",
       "    }\n",
       "\n",
       "    .dataframe thead th {\n",
       "        text-align: right;\n",
       "    }\n",
       "</style>\n",
       "<table border=\"1\" class=\"dataframe\">\n",
       "  <thead>\n",
       "    <tr style=\"text-align: right;\">\n",
       "      <th></th>\n",
       "      <th>index</th>\n",
       "      <th>state</th>\n",
       "    </tr>\n",
       "  </thead>\n",
       "  <tbody>\n",
       "    <tr>\n",
       "      <th>0</th>\n",
       "      <td>SP</td>\n",
       "      <td>81929</td>\n",
       "    </tr>\n",
       "    <tr>\n",
       "      <th>1</th>\n",
       "      <td>MG</td>\n",
       "      <td>39851</td>\n",
       "    </tr>\n",
       "    <tr>\n",
       "      <th>2</th>\n",
       "      <td>RS</td>\n",
       "      <td>34831</td>\n",
       "    </tr>\n",
       "    <tr>\n",
       "      <th>3</th>\n",
       "      <td>PR</td>\n",
       "      <td>31441</td>\n",
       "    </tr>\n",
       "    <tr>\n",
       "      <th>4</th>\n",
       "      <td>RJ</td>\n",
       "      <td>29057</td>\n",
       "    </tr>\n",
       "    <tr>\n",
       "      <th>5</th>\n",
       "      <td>BA</td>\n",
       "      <td>20463</td>\n",
       "    </tr>\n",
       "    <tr>\n",
       "      <th>6</th>\n",
       "      <td>GO</td>\n",
       "      <td>11497</td>\n",
       "    </tr>\n",
       "    <tr>\n",
       "      <th>7</th>\n",
       "      <td>PE</td>\n",
       "      <td>11460</td>\n",
       "    </tr>\n",
       "    <tr>\n",
       "      <th>8</th>\n",
       "      <td>SC</td>\n",
       "      <td>9342</td>\n",
       "    </tr>\n",
       "    <tr>\n",
       "      <th>9</th>\n",
       "      <td>CE</td>\n",
       "      <td>7690</td>\n",
       "    </tr>\n",
       "    <tr>\n",
       "      <th>10</th>\n",
       "      <td>DF</td>\n",
       "      <td>5645</td>\n",
       "    </tr>\n",
       "    <tr>\n",
       "      <th>11</th>\n",
       "      <td>PA</td>\n",
       "      <td>5237</td>\n",
       "    </tr>\n",
       "    <tr>\n",
       "      <th>12</th>\n",
       "      <td>MS</td>\n",
       "      <td>4921</td>\n",
       "    </tr>\n",
       "    <tr>\n",
       "      <th>13</th>\n",
       "      <td>ES</td>\n",
       "      <td>4421</td>\n",
       "    </tr>\n",
       "    <tr>\n",
       "      <th>14</th>\n",
       "      <td>MT</td>\n",
       "      <td>4387</td>\n",
       "    </tr>\n",
       "    <tr>\n",
       "      <th>15</th>\n",
       "      <td>MA</td>\n",
       "      <td>3823</td>\n",
       "    </tr>\n",
       "    <tr>\n",
       "      <th>16</th>\n",
       "      <td>PB</td>\n",
       "      <td>2847</td>\n",
       "    </tr>\n",
       "    <tr>\n",
       "      <th>17</th>\n",
       "      <td>RN</td>\n",
       "      <td>2640</td>\n",
       "    </tr>\n",
       "    <tr>\n",
       "      <th>18</th>\n",
       "      <td>PI</td>\n",
       "      <td>2509</td>\n",
       "    </tr>\n",
       "    <tr>\n",
       "      <th>19</th>\n",
       "      <td>TO</td>\n",
       "      <td>2394</td>\n",
       "    </tr>\n",
       "    <tr>\n",
       "      <th>20</th>\n",
       "      <td>AL</td>\n",
       "      <td>1875</td>\n",
       "    </tr>\n",
       "    <tr>\n",
       "      <th>21</th>\n",
       "      <td>SE</td>\n",
       "      <td>1448</td>\n",
       "    </tr>\n",
       "    <tr>\n",
       "      <th>22</th>\n",
       "      <td>RO</td>\n",
       "      <td>1001</td>\n",
       "    </tr>\n",
       "    <tr>\n",
       "      <th>23</th>\n",
       "      <td>AM</td>\n",
       "      <td>807</td>\n",
       "    </tr>\n",
       "    <tr>\n",
       "      <th>24</th>\n",
       "      <td>AP</td>\n",
       "      <td>500</td>\n",
       "    </tr>\n",
       "    <tr>\n",
       "      <th>25</th>\n",
       "      <td>RR</td>\n",
       "      <td>500</td>\n",
       "    </tr>\n",
       "    <tr>\n",
       "      <th>26</th>\n",
       "      <td>AC</td>\n",
       "      <td>500</td>\n",
       "    </tr>\n",
       "  </tbody>\n",
       "</table>\n",
       "</div>"
      ],
      "text/plain": [
       "   index  state\n",
       "0     SP  81929\n",
       "1     MG  39851\n",
       "2     RS  34831\n",
       "3     PR  31441\n",
       "4     RJ  29057\n",
       "5     BA  20463\n",
       "6     GO  11497\n",
       "7     PE  11460\n",
       "8     SC   9342\n",
       "9     CE   7690\n",
       "10    DF   5645\n",
       "11    PA   5237\n",
       "12    MS   4921\n",
       "13    ES   4421\n",
       "14    MT   4387\n",
       "15    MA   3823\n",
       "16    PB   2847\n",
       "17    RN   2640\n",
       "18    PI   2509\n",
       "19    TO   2394\n",
       "20    AL   1875\n",
       "21    SE   1448\n",
       "22    RO   1001\n",
       "23    AM    807\n",
       "24    AP    500\n",
       "25    RR    500\n",
       "26    AC    500"
      ]
     },
     "execution_count": 36,
     "metadata": {},
     "output_type": "execute_result"
    }
   ],
   "source": [
    "# counting each state\n",
    "estados_v_c = coordenadas[\"state\"].value_counts().reset_index()\n",
    "estados_v_c"
   ]
  },
  {
   "cell_type": "code",
   "execution_count": 67,
   "metadata": {},
   "outputs": [
    {
     "data": {
      "image/png": "[encoded data removed]",
      "text/plain": [
       "<matplotlib.figure.Figure at 0x1da41912b38>"
      ]
     },
     "metadata": {},
     "output_type": "display_data"
    }
   ],
   "source": [
    "# creating a data visualization\n",
    "import matplotlib.pyplot as plt\n",
    "fig, axis = plt.subplots(figsize=(20,10))\n",
    "plt.bar(estados_v_c['index'], estados_v_c['state'], color=\"#00897B\")\n",
    "plt.title(\"Distribuição de Compras Online por Estado\", fontsize=20)\n",
    "plt.xticks( fontsize=13,rotation=30)\n",
    "plt.xlabel(\"Estado\", fontsize=15)\n",
    "plt.ylabel(\"Quantidade\", fontsize=15)\n",
    "plt.savefig(\"distribuicao.png\")\n",
    "plt.show()\n"
   ]
  },
  {
   "cell_type": "code",
   "execution_count": 6,
   "metadata": {
    "colab": {},
    "colab_type": "code",
    "id": "u07Dz2q-_3iI"
   },
   "outputs": [],
   "source": [
    "# reindex the data\n",
    "coordenadas = coordenadas.set_index(\"state\")"
   ]
  },
  {
   "cell_type": "code",
   "execution_count": 4,
   "metadata": {
    "colab": {},
    "colab_type": "code",
    "id": "qMtcVi2YFt2j"
   },
   "outputs": [],
   "source": [
    "#updating the files\n",
    "from folium.plugins import HeatMap\n",
    "from folium import plugins\n",
    "import numpy as np"
   ]
  },
  {
   "cell_type": "code",
   "execution_count": 32,
   "metadata": {
    "scrolled": true
   },
   "outputs": [
    {
     "name": "stdout",
     "output_type": "stream",
     "text": [
      "(323016, 4)\n"
     ]
    }
   ],
   "source": [
    "# cleaning the data\n",
    "clean_coorden  = coordenadas.dropna(axis=1)\n",
    "print(clean_coorden.shape)\n",
    "\n",
    "# lat and lng sample\n",
    "data = np.array(\n",
    "    [\n",
    "        clean_coorden['lat'],\n",
    "        clean_coorden['lng']\n",
    "    ]\n",
    ").T.data.tolist()\n",
    "\n",
    "# Create a map\n",
    "m = folium.Map(\n",
    "    location=[-5.826592, -35.212558],\n",
    "    zoom_start=4,\n",
    "    tiles='stamenterrain',\n",
    "    width='100%',\n",
    "    height='100%'\n",
    ")\n",
    "\n",
    "# data : list of points of the form [lat, lng] or [lat, lng, weight]\n",
    "HeatMap(data).add_to(m)\n",
    "\n",
    "# saving the heatmap\n",
    "m.save('heat_map_brazilian_e_commerce.html')\n",
    "\n"
   ]
  }
 ],
 "metadata": {
  "accelerator": "GPU",
  "colab": {
   "collapsed_sections": [],
   "name": "Brazilian E-Commerce.ipynb",
   "provenance": [],
   "version": "0.3.2"
  },
  "kernelspec": {
   "display_name": "Python 3",
   "language": "python",
   "name": "python3"
  },
  "language_info": {
   "codemirror_mode": {
    "name": "ipython",
    "version": 3
   },
   "file_extension": ".py",
   "mimetype": "text/x-python",
   "name": "python",
   "nbconvert_exporter": "python",
   "pygments_lexer": "ipython3",
   "version": "3.6.4"
  }
 },
 "nbformat": 4,
 "nbformat_minor": 1
}
